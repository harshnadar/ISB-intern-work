{
  "nbformat": 4,
  "nbformat_minor": 0,
  "metadata": {
    "kernelspec": {
      "display_name": "Python 3",
      "language": "python",
      "name": "python3"
    },
    "language_info": {
      "codemirror_mode": {
        "name": "ipython",
        "version": 3
      },
      "file_extension": ".py",
      "mimetype": "text/x-python",
      "name": "python",
      "nbconvert_exporter": "python",
      "pygments_lexer": "ipython3",
      "version": "3.7.3"
    },
    "colab": {
      "name": "earnings call.ipynb",
      "provenance": [],
      "include_colab_link": true
    }
  },
  "cells": [
    {
      "cell_type": "markdown",
      "metadata": {
        "id": "view-in-github",
        "colab_type": "text"
      },
      "source": [
        "<a href=\"https://colab.research.google.com/github/harshnadar/ISB-intern-work/blob/main/earnings_call.ipynb\" target=\"_parent\"><img src=\"https://colab.research.google.com/assets/colab-badge.svg\" alt=\"Open In Colab\"/></a>"
      ]
    },
    {
      "cell_type": "code",
      "metadata": {
        "id": "NbG-i4I5X1Qm"
      },
      "source": [
        "import pandas as pd\n",
        "import numpy as np\n",
        "import glob\n",
        "import os\n",
        "from dateparser.search import search_dates"
      ],
      "execution_count": null,
      "outputs": []
    },
    {
      "cell_type": "code",
      "metadata": {
        "id": "aK0XhUZMX1Qq",
        "outputId": "f0508617-b603-4dbb-89e6-8e1be1812067"
      },
      "source": [
        "#set the directory\n",
        "%cd \"C:\\Users\\HP\\Documents\\GitHub\\intern ISB\""
      ],
      "execution_count": null,
      "outputs": [
        {
          "output_type": "stream",
          "text": [
            "C:\\Users\\HP\\Documents\\GitHub\\intern ISB\n"
          ],
          "name": "stdout"
        }
      ]
    },
    {
      "cell_type": "code",
      "metadata": {
        "id": "q24TrZxcX1Qr"
      },
      "source": [
        "from bs4 import BeautifulSoup\n",
        "import re"
      ],
      "execution_count": null,
      "outputs": []
    },
    {
      "cell_type": "code",
      "metadata": {
        "id": "ENeLzDiCX1Qs"
      },
      "source": [
        "#index of capital letters and used further to extract the name and designation\n",
        "def index(first_text):\n",
        "    c=[]\n",
        "    for match in re.finditer(r'[A-Z]{2,5}\\W{0,2}:',first_text):\n",
        "        a=match.span()[0]\n",
        "        b=match.span()[1]\n",
        "        c.append([a,b])\n",
        "    for i in range(len(c)):\n",
        "        d=c[i][0]\n",
        "        while(1):\n",
        "            d=d-1\n",
        "            if(first_text[d]=='\\n'):\n",
        "                break\n",
        "        c[i][0]=d\n",
        "    name=[]\n",
        "    for i in range(len(c)):\n",
        "        f=c[i][0] \n",
        "        while(1):\n",
        "            f=f+1\n",
        "            if(first_text[f]==':'):\n",
        "                break\n",
        "            if(first_text[f]==','):\n",
        "                break\n",
        "        name.append([c[i][0],f])\n",
        "    return c, name"
      ],
      "execution_count": null,
      "outputs": []
    },
    {
      "cell_type": "code",
      "metadata": {
        "id": "sn6cINY0X1Qt"
      },
      "source": [
        "#a dictionary that has name-designation as the key-value pair and des is the list that has the designation of the names. \n",
        "#returns a list\n",
        "def name_designation(first_text, c, name, final_text, name_): \n",
        "    b_dict={}\n",
        "    for i in range(len(c)):\n",
        "        if(name[i][0]==c[i][0] and name[i][1]!=c[i][1]-1):\n",
        "            b_dict[first_text[name[i][0]:name[i][1]]]= [first_text[(name[i][1]+2):(c[i][1]-1)]]\n",
        "    for name in name_:\n",
        "        if '\\n'+name not in b_dict.keys():\n",
        "            b_dict['\\n'+name]=None\n",
        "    des=[]\n",
        "    for key in name_:\n",
        "            des.append(b_dict['\\n'+key])\n",
        "    \n",
        "    return des"
      ],
      "execution_count": null,
      "outputs": []
    },
    {
      "cell_type": "code",
      "metadata": {
        "id": "NmQiCtGNX1Qt"
      },
      "source": [
        "#dictionary that has name-text as the key-value pair\n",
        "#returns a final speech and name of the participants\n",
        "def name_text_dict(first_text,c , name):\n",
        "    a_dict = {}\n",
        "    for i in range(len(c)):\n",
        "        if(i==(len(c)-1)):\n",
        "            if first_text[name[i][0]:name[i][1]] in a_dict:\n",
        "                a_dict[first_text[name[i][0]:name[i][1]]].append(first_text[c[i][1]:-1])\n",
        "            else:\n",
        "                a_dict[first_text[name[i][0]:name[i][1]]] = [first_text[c[i][1]:-1]]\n",
        "\n",
        "        else:\n",
        "            if first_text[name[i][0]:name[i][1]] in a_dict:\n",
        "                a_dict[first_text[name[i][0]:name[i][1]]].append(first_text[c[i][1]:c[i+1][0]])\n",
        "            else:\n",
        "                a_dict[first_text[name[i][0]:name[i][1]]] = [first_text[c[i][1]:c[i+1][0]]]\n",
        "    final_text=[]\n",
        "    for key in a_dict.keys():\n",
        "        final_text.append(\" \".join(a_dict[key]))\n",
        "    name_=[]\n",
        "    for key in a_dict.keys():\n",
        "        name_.append(key.split('\\n')[1])\n",
        "    return final_text, name_"
      ],
      "execution_count": null,
      "outputs": []
    },
    {
      "cell_type": "code",
      "metadata": {
        "id": "JQnPnaCRX1Qu"
      },
      "source": [
        "#returns the list that has title of the call\n",
        "def head(first_text,final_text):\n",
        "    heading = re.findall('\\n(.*).?\\n',first_text)\n",
        "    title=heading[0]\n",
        "    if(title==''):\n",
        "        heading=re.findall('\\n\\n(.*).?\\n',first_text)\n",
        "        title= heading[0]\n",
        "        dinank=re.findall('\\n(.*).?\\n',first_text)\n",
        "        string_1= re.sub(r\"([0-9]+(\\.[0-9]+)?)\",r\" \\1 \", dinank[1]).strip()\n",
        "    else:\n",
        "        dinank=re.findall('\\n(.*).?\\n\\n',first_text)\n",
        "        string_1=re.sub(r\"([0-9]+(\\.[0-9]+)?)\",r\" \\1 \", dinank[0]).strip()\n",
        "    title_=[]\n",
        "    date=[]\n",
        "    for i in range(0,len(final_text)):\n",
        "        title_.append(title)\n",
        "        try:\n",
        "            date.append(search_dates(string_1)[1][0])\n",
        "        except:\n",
        "            heading=re.findall('(.*).?\\n',first_text)\n",
        "            string_1=re.sub(r\"([0-9]+(\\.[0-9]+)?)\",r\" \\1 \", heading[2]).strip()\n",
        "            try:\n",
        "                date.append(search_dates(string_1)[1][0])\n",
        "            except:\n",
        "                date.append(\" \")\n",
        "    return title_, date"
      ],
      "execution_count": null,
      "outputs": []
    },
    {
      "cell_type": "code",
      "metadata": {
        "id": "yF_c_ml5X1Qv",
        "outputId": "49876eed-9447-4421-8f52-c93f1adcece5"
      },
      "source": [
        "#main function\n",
        "t=[]\n",
        "z=[]\n",
        "n=[]\n",
        "d=[]\n",
        "s=[]\n",
        "v=[]\n",
        "for i in glob.glob(\"..\\\\Prashant Shukla - harsh/*\"):\n",
        "    name_of_folder=i.split('\\\\')[-1]\n",
        "    #print(name)\n",
        "    j=i+\"/*.html\"\n",
        "    for k in glob.glob(j): \n",
        "        print(k)\n",
        "        bs=BeautifulSoup(open(k, encoding=\"utf8\"),features=\"lxml\")\n",
        "        my=bs.findAll(\"div\",{\"class\": \"article\"})\n",
        "        q=0\n",
        "        while(q<len(my)):\n",
        "            first_text=my[q].text\n",
        "            c, name= index(first_text)\n",
        "            final_text, name_ = name_text_dict(first_text,c , name)\n",
        "            des= name_designation(first_text, c, name, final_text, name_)\n",
        "            title_, date_ = head(first_text,final_text)\n",
        "            v.extend(name_of_folder)\n",
        "            t.extend(title_)\n",
        "            z.extend(date_)\n",
        "            n.extend(name_)\n",
        "            d.extend(des)\n",
        "            s.extend(final_text)\n",
        "            q+=2"
      ],
      "execution_count": null,
      "outputs": [
        {
          "output_type": "stream",
          "text": [
            "..\\Prashant Shukla - harsh\\10016\\1.html\n",
            "..\\Prashant Shukla - harsh\\10016\\2.html\n"
          ],
          "name": "stdout"
        },
        {
          "output_type": "error",
          "ename": "KeyboardInterrupt",
          "evalue": "",
          "traceback": [
            "\u001b[1;31m---------------------------------------------------------------------------\u001b[0m",
            "\u001b[1;31mKeyboardInterrupt\u001b[0m                         Traceback (most recent call last)",
            "\u001b[1;32m<ipython-input-27-ba0aeb7f1a28>\u001b[0m in \u001b[0;36m<module>\u001b[1;34m\u001b[0m\n\u001b[0;32m     11\u001b[0m     \u001b[1;32mfor\u001b[0m \u001b[0mk\u001b[0m \u001b[1;32min\u001b[0m \u001b[0mglob\u001b[0m\u001b[1;33m.\u001b[0m\u001b[0mglob\u001b[0m\u001b[1;33m(\u001b[0m\u001b[0mj\u001b[0m\u001b[1;33m)\u001b[0m\u001b[1;33m:\u001b[0m\u001b[1;33m\u001b[0m\u001b[1;33m\u001b[0m\u001b[0m\n\u001b[0;32m     12\u001b[0m         \u001b[0mprint\u001b[0m\u001b[1;33m(\u001b[0m\u001b[0mk\u001b[0m\u001b[1;33m)\u001b[0m\u001b[1;33m\u001b[0m\u001b[1;33m\u001b[0m\u001b[0m\n\u001b[1;32m---> 13\u001b[1;33m         \u001b[0mbs\u001b[0m\u001b[1;33m=\u001b[0m\u001b[0mBeautifulSoup\u001b[0m\u001b[1;33m(\u001b[0m\u001b[0mopen\u001b[0m\u001b[1;33m(\u001b[0m\u001b[0mk\u001b[0m\u001b[1;33m,\u001b[0m \u001b[0mencoding\u001b[0m\u001b[1;33m=\u001b[0m\u001b[1;34m\"utf8\"\u001b[0m\u001b[1;33m)\u001b[0m\u001b[1;33m,\u001b[0m\u001b[0mfeatures\u001b[0m\u001b[1;33m=\u001b[0m\u001b[1;34m\"lxml\"\u001b[0m\u001b[1;33m)\u001b[0m\u001b[1;33m\u001b[0m\u001b[1;33m\u001b[0m\u001b[0m\n\u001b[0m\u001b[0;32m     14\u001b[0m         \u001b[0mmy\u001b[0m\u001b[1;33m=\u001b[0m\u001b[0mbs\u001b[0m\u001b[1;33m.\u001b[0m\u001b[0mfindAll\u001b[0m\u001b[1;33m(\u001b[0m\u001b[1;34m\"div\"\u001b[0m\u001b[1;33m,\u001b[0m\u001b[1;33m{\u001b[0m\u001b[1;34m\"class\"\u001b[0m\u001b[1;33m:\u001b[0m \u001b[1;34m\"article\"\u001b[0m\u001b[1;33m}\u001b[0m\u001b[1;33m)\u001b[0m\u001b[1;33m\u001b[0m\u001b[1;33m\u001b[0m\u001b[0m\n\u001b[0;32m     15\u001b[0m         \u001b[0mq\u001b[0m\u001b[1;33m=\u001b[0m\u001b[1;36m0\u001b[0m\u001b[1;33m\u001b[0m\u001b[1;33m\u001b[0m\u001b[0m\n",
            "\u001b[1;32m~\\Anaconda3\\lib\\codecs.py\u001b[0m in \u001b[0;36m__init__\u001b[1;34m(self, errors)\u001b[0m\n\u001b[0;32m    307\u001b[0m     \u001b[0mbyte\u001b[0m \u001b[0msequences\u001b[0m\u001b[1;33m.\u001b[0m\u001b[1;33m\u001b[0m\u001b[1;33m\u001b[0m\u001b[0m\n\u001b[0;32m    308\u001b[0m     \"\"\"\n\u001b[1;32m--> 309\u001b[1;33m     \u001b[1;32mdef\u001b[0m \u001b[0m__init__\u001b[0m\u001b[1;33m(\u001b[0m\u001b[0mself\u001b[0m\u001b[1;33m,\u001b[0m \u001b[0merrors\u001b[0m\u001b[1;33m=\u001b[0m\u001b[1;34m'strict'\u001b[0m\u001b[1;33m)\u001b[0m\u001b[1;33m:\u001b[0m\u001b[1;33m\u001b[0m\u001b[1;33m\u001b[0m\u001b[0m\n\u001b[0m\u001b[0;32m    310\u001b[0m         \u001b[0mIncrementalDecoder\u001b[0m\u001b[1;33m.\u001b[0m\u001b[0m__init__\u001b[0m\u001b[1;33m(\u001b[0m\u001b[0mself\u001b[0m\u001b[1;33m,\u001b[0m \u001b[0merrors\u001b[0m\u001b[1;33m)\u001b[0m\u001b[1;33m\u001b[0m\u001b[1;33m\u001b[0m\u001b[0m\n\u001b[0;32m    311\u001b[0m         \u001b[1;31m# undecoded input that is kept between calls to decode()\u001b[0m\u001b[1;33m\u001b[0m\u001b[1;33m\u001b[0m\u001b[1;33m\u001b[0m\u001b[0m\n",
            "\u001b[1;31mKeyboardInterrupt\u001b[0m: "
          ]
        }
      ]
    },
    {
      "cell_type": "code",
      "metadata": {
        "id": "wVIyY7rxX1Qv"
      },
      "source": [
        "df=pd.DataFrame({'Title':t, 'Date':z, 'Name': n, 'Designation': d, 'Speech':s})"
      ],
      "execution_count": null,
      "outputs": []
    },
    {
      "cell_type": "code",
      "metadata": {
        "id": "16W3k7SfX1Qw",
        "outputId": "5cf1fc7a-e02a-42a7-fa5e-240dcb0e0abb"
      },
      "source": [
        "len(t)"
      ],
      "execution_count": null,
      "outputs": [
        {
          "output_type": "execute_result",
          "data": {
            "text/plain": [
              "29"
            ]
          },
          "metadata": {
            "tags": []
          },
          "execution_count": 34
        }
      ]
    },
    {
      "cell_type": "code",
      "metadata": {
        "id": "2-Tqq5TMX1Qw",
        "outputId": "8d768420-7784-4148-c3eb-cbb7b99ab869"
      },
      "source": [
        "df.tail()"
      ],
      "execution_count": null,
      "outputs": [
        {
          "output_type": "execute_result",
          "data": {
            "text/html": [
              "<div>\n",
              "<style scoped>\n",
              "    .dataframe tbody tr th:only-of-type {\n",
              "        vertical-align: middle;\n",
              "    }\n",
              "\n",
              "    .dataframe tbody tr th {\n",
              "        vertical-align: top;\n",
              "    }\n",
              "\n",
              "    .dataframe thead th {\n",
              "        text-align: right;\n",
              "    }\n",
              "</style>\n",
              "<table border=\"1\" class=\"dataframe\">\n",
              "  <thead>\n",
              "    <tr style=\"text-align: right;\">\n",
              "      <th></th>\n",
              "      <th>Title</th>\n",
              "      <th>Date</th>\n",
              "      <th>Name</th>\n",
              "      <th>Designation</th>\n",
              "      <th>Speech</th>\n",
              "    </tr>\n",
              "  </thead>\n",
              "  <tbody>\n",
              "    <tr>\n",
              "      <th>24</th>\n",
              "      <td>Q1 2007 Smurfit-Stone Container Corporation Ea...</td>\n",
              "      <td>27 April 2007</td>\n",
              "      <td>CLAUDIA SHANK</td>\n",
              "      <td>[ANALYST, JPMORGAN]</td>\n",
              "      <td>Thanks very much. Good morning.     Just buil...</td>\n",
              "    </tr>\n",
              "    <tr>\n",
              "      <th>25</th>\n",
              "      <td>Q1 2007 Smurfit-Stone Container Corporation Ea...</td>\n",
              "      <td>27 April 2007</td>\n",
              "      <td>PETER RUSCHMEIER</td>\n",
              "      <td>[ANALYST, LEHMAN BROTHERS]</td>\n",
              "      <td>Thank you. And good morning. I had some relat...</td>\n",
              "    </tr>\n",
              "    <tr>\n",
              "      <th>26</th>\n",
              "      <td>Q1 2007 Smurfit-Stone Container Corporation Ea...</td>\n",
              "      <td>27 April 2007</td>\n",
              "      <td>RICK SKIDMORE</td>\n",
              "      <td>[ANALYST, GOLDMAN SACHS]</td>\n",
              "      <td>Good morning, thank you. Just to follow-up on...</td>\n",
              "    </tr>\n",
              "    <tr>\n",
              "      <th>27</th>\n",
              "      <td>Smurfit-Stone Container Corporation Analyst Co...</td>\n",
              "      <td></td>\n",
              "      <td>PAT MOORE</td>\n",
              "      <td>[PRESIDENT AND CEO, SMURFIT-STONE CONTAINER CO...</td>\n",
              "      <td>\\nGood morning and thank you, Matt (ph), for t...</td>\n",
              "    </tr>\n",
              "    <tr>\n",
              "      <th>28</th>\n",
              "      <td>Smurfit-Stone Container Corporation Analyst Co...</td>\n",
              "      <td></td>\n",
              "      <td>UNIDENTIFIED</td>\n",
              "      <td>None</td>\n",
              "      <td>Thanks Pat.  Why don't we take a couple of q...</td>\n",
              "    </tr>\n",
              "  </tbody>\n",
              "</table>\n",
              "</div>"
            ],
            "text/plain": [
              "                                                Title           Date  \\\n",
              "24  Q1 2007 Smurfit-Stone Container Corporation Ea...  27 April 2007   \n",
              "25  Q1 2007 Smurfit-Stone Container Corporation Ea...  27 April 2007   \n",
              "26  Q1 2007 Smurfit-Stone Container Corporation Ea...  27 April 2007   \n",
              "27  Smurfit-Stone Container Corporation Analyst Co...                  \n",
              "28  Smurfit-Stone Container Corporation Analyst Co...                  \n",
              "\n",
              "                Name                                        Designation  \\\n",
              "24     CLAUDIA SHANK                                [ANALYST, JPMORGAN]   \n",
              "25  PETER RUSCHMEIER                         [ANALYST, LEHMAN BROTHERS]   \n",
              "26     RICK SKIDMORE                           [ANALYST, GOLDMAN SACHS]   \n",
              "27         PAT MOORE  [PRESIDENT AND CEO, SMURFIT-STONE CONTAINER CO...   \n",
              "28      UNIDENTIFIED                                               None   \n",
              "\n",
              "                                               Speech  \n",
              "24   Thanks very much. Good morning.     Just buil...  \n",
              "25   Thank you. And good morning. I had some relat...  \n",
              "26   Good morning, thank you. Just to follow-up on...  \n",
              "27  \\nGood morning and thank you, Matt (ph), for t...  \n",
              "28    Thanks Pat.  Why don't we take a couple of q...  "
            ]
          },
          "metadata": {
            "tags": []
          },
          "execution_count": 36
        }
      ]
    },
    {
      "cell_type": "code",
      "metadata": {
        "id": "c2zMb8m9X1Qx"
      },
      "source": [
        "#set path and change the name of the excel file(use .xlsx format only)\n",
        "df.to_excel (r'C:\\Users\\HP\\Documents\\GitHub\\intern ISB\\harsh_final.xlsx', index = False, header=True)"
      ],
      "execution_count": null,
      "outputs": []
    }
  ]
}