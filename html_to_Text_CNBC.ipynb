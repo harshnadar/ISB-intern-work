{
  "nbformat": 4,
  "nbformat_minor": 0,
  "metadata": {
    "kernelspec": {
      "display_name": "Python 3",
      "language": "python",
      "name": "python3"
    },
    "language_info": {
      "codemirror_mode": {
        "name": "ipython",
        "version": 3
      },
      "file_extension": ".py",
      "mimetype": "text/x-python",
      "name": "python",
      "nbconvert_exporter": "python",
      "pygments_lexer": "ipython3",
      "version": "3.7.3"
    },
    "colab": {
      "name": "html to Text -CNBC.ipynb",
      "provenance": [],
      "include_colab_link": true
    }
  },
  "cells": [
    {
      "cell_type": "markdown",
      "metadata": {
        "id": "view-in-github",
        "colab_type": "text"
      },
      "source": [
        "<a href=\"https://colab.research.google.com/github/harshnadar/ISB-intern-work/blob/main/html_to_Text_CNBC.ipynb\" target=\"_parent\"><img src=\"https://colab.research.google.com/assets/colab-badge.svg\" alt=\"Open In Colab\"/></a>"
      ]
    },
    {
      "cell_type": "code",
      "metadata": {
        "id": "MjXN3mASYhOl"
      },
      "source": [
        "import pandas as pd\n",
        "import numpy as np\n",
        "import glob\n",
        "import os\n",
        "from dateparser.search import search_dates"
      ],
      "execution_count": null,
      "outputs": []
    },
    {
      "cell_type": "code",
      "metadata": {
        "id": "S0i40dXUYhOp",
        "outputId": "34ca4130-76a0-4bc8-989c-4901e2b31c12"
      },
      "source": [
        "#set the directory\n",
        "%cd \"C:\\Users\\HP\\Documents\\GitHub\\intern ISB\\Interview_CNBC_Factiva\""
      ],
      "execution_count": null,
      "outputs": [
        {
          "output_type": "stream",
          "text": [
            "C:\\Users\\HP\\Documents\\GitHub\\intern ISB\\Interview_CNBC_Factiva\n"
          ],
          "name": "stdout"
        }
      ]
    },
    {
      "cell_type": "code",
      "metadata": {
        "id": "HNaK8b7uYhOr"
      },
      "source": [
        "from bs4 import BeautifulSoup\n",
        "import re"
      ],
      "execution_count": null,
      "outputs": []
    },
    {
      "cell_type": "code",
      "metadata": {
        "id": "ysVLsGSKYhOs"
      },
      "source": [
        "#index of capital letters and used further to extract the name and designation\n",
        "def index(first_text):\n",
        "    c=[]\n",
        "    for match in re.finditer(r'[A-Z]{1,5}\\W{0,2}:',first_text):\n",
        "        a=match.span()[0]\n",
        "        b=match.span()[1]\n",
        "        c.append([a,b])\n",
        "    for i in range(len(c)):\n",
        "        d=c[i][0]\n",
        "        while(1):\n",
        "            d=d-1\n",
        "            if(first_text[d]=='\\n'):\n",
        "                break\n",
        "        c[i][0]=d\n",
        "    name=[]\n",
        "    for i in range(len(c)):\n",
        "        f=c[i][0] \n",
        "        while(1):\n",
        "            f=f+1\n",
        "            if(first_text[f]==':'):\n",
        "                break\n",
        "            if(first_text[f]==','):\n",
        "                break\n",
        "        name.append([c[i][0],f])\n",
        "    return c, name"
      ],
      "execution_count": null,
      "outputs": []
    },
    {
      "cell_type": "code",
      "metadata": {
        "id": "qlTzqzGNYhOt"
      },
      "source": [
        "#dictionary that has name-text as the key-value pair\n",
        "#returns a final speech and name of the participants\n",
        "def name_text_dict(first_text,c , name):\n",
        "    hh=[]\n",
        "    for i in range(len(c)):\n",
        "        if first_text[name[i][0]+1:name[i][1]] not in hh:\n",
        "            hh.append(first_text[name[i][0]+1:name[i][1]])\n",
        "    a_dict = {}\n",
        "    for i in range(len(c)):\n",
        "        if(i==(len(c)-1)):\n",
        "            if first_text[name[i][0]+1:name[i][1]] in a_dict:\n",
        "                a_dict[first_text[name[i][0]+1:name[i][1]]].append(first_text[c[i][1]:-1])\n",
        "            else:\n",
        "                a_dict[first_text[name[i][0]+1:name[i][1]]] = [first_text[c[i][1]:-1]]\n",
        "\n",
        "        else:\n",
        "            if first_text[name[i][0]+1:name[i][1]] in a_dict:\n",
        "                a_dict[first_text[name[i][0]+1:name[i][1]]].append(first_text[c[i][1]:c[i+1][0]])\n",
        "            else:\n",
        "                a_dict[first_text[name[i][0]+1:name[i][1]]] = [first_text[c[i][1]:c[i+1][0]]]\n",
        "    for i in hh:\n",
        "        for j in hh:\n",
        "            if(i!=j and i in j):\n",
        "                a_dict[j]=a_dict.pop(i)\n",
        "                i='ncjsncskkdsjkjkkjsdknnfkn'\n",
        "    final_text=[]\n",
        "    for key in a_dict.keys():\n",
        "        final_text.append(\" \".join(a_dict[key]))\n",
        "    name_=[]\n",
        "    for key in a_dict.keys():\n",
        "        name_.append(key)\n",
        "    b_dict={}\n",
        "    for i in range(len(c)):\n",
        "        if(name[i][0]==c[i][0] and name[i][1]!=c[i][1]-1):\n",
        "            b_dict[first_text[name[i][0]+1:name[i][1]]]= [first_text[(name[i][1]+2):(c[i][1]-1)]]\n",
        "    for name in name_:\n",
        "        if name not in b_dict.keys():\n",
        "            b_dict[name]=None\n",
        "    des=[]\n",
        "    for key in a_dict.keys():\n",
        "        des.append(b_dict[key])\n",
        "    \n",
        "    \n",
        "    return final_text, name_,des"
      ],
      "execution_count": null,
      "outputs": []
    },
    {
      "cell_type": "code",
      "metadata": {
        "id": "Qkw1qW-SYhOu"
      },
      "source": [
        "#returns the list that has title of the call\n",
        "def head(first_text,final_text,q):\n",
        "    title_=[]\n",
        "    date=[]\n",
        "    #print(string_1)\n",
        "    check=my[q].findAll(\"div\")\n",
        "    ti=my[q].findAll(\"span\",{\"class\":\"enHeadline\"})\n",
        "    for i in range(0,len(final_text)):\n",
        "        title_.append(ti[0].text[1:-1])\n",
        "        try:\n",
        "            date.append(check[5].text)\n",
        "        except:\n",
        "            date.append(' ')\n",
        "    return title_, date"
      ],
      "execution_count": null,
      "outputs": []
    },
    {
      "cell_type": "code",
      "metadata": {
        "id": "PFOMTyQ8YhOu",
        "outputId": "0d6c6989-aa96-4b09-e93e-e2bea16d2868"
      },
      "source": [
        "#main function\n",
        "t=[]\n",
        "z=[]\n",
        "n=[]\n",
        "d=[]\n",
        "s=[]\n",
        "\n",
        "for i in range(1,39):\n",
        "    \n",
        "    k='z'+str(i)+'.html' #You need to edit here. E.g. I've saved files as: A1.html, A2.html..... A36.html\n",
        "    print(k)\n",
        "    bs=BeautifulSoup(open(k, encoding=\"utf8\"),features=\"lxml\")\n",
        "    my=bs.findAll(\"div\",{\"class\": \"article\"})\n",
        "    q=0\n",
        "    while(q<len(my)):\n",
        "        first_text=my[q].text\n",
        "        first_text=first_text.replace(\"-\",\"\")\n",
        "        first_text=first_text.replace(\"  \",\" \")\n",
        "        if(first_text[1]=='\\n'):\n",
        "            first_text=first_text[1:]\n",
        "            first_text=first_text.replace(\"\\n\\n\\n\",\"\\n\")\n",
        "        c, name= index(first_text)\n",
        "        final_text, name_,des = name_text_dict(first_text,c , name)\n",
        "        #des= name_designation(first_text, c, name, final_text, name_)\n",
        "        title_, date_ = head(first_text,final_text,q)\n",
        "        t.extend(title_)\n",
        "        z.extend(date_)\n",
        "        n.extend(name_)\n",
        "        d.extend(des)\n",
        "        s.extend(final_text)\n",
        "        q+=2"
      ],
      "execution_count": null,
      "outputs": [
        {
          "output_type": "stream",
          "text": [
            "z1.html\n",
            "z2.html\n",
            "z3.html\n",
            "z4.html\n",
            "z5.html\n",
            "z6.html\n",
            "z7.html\n",
            "z8.html\n",
            "z9.html\n",
            "z10.html\n",
            "z11.html\n",
            "z12.html\n",
            "z13.html\n",
            "z14.html\n",
            "z15.html\n",
            "z16.html\n",
            "z17.html\n",
            "z18.html\n",
            "z19.html\n",
            "z20.html\n",
            "z21.html\n",
            "z22.html\n",
            "z23.html\n",
            "z24.html\n",
            "z25.html\n",
            "z26.html\n",
            "z27.html\n",
            "z28.html\n",
            "z29.html\n",
            "z30.html\n",
            "z31.html\n",
            "z32.html\n",
            "z33.html\n",
            "z34.html\n",
            "z35.html\n",
            "z36.html\n",
            "z37.html\n",
            "z38.html\n"
          ],
          "name": "stdout"
        }
      ]
    },
    {
      "cell_type": "code",
      "metadata": {
        "id": "3FErPl_jYhOv",
        "outputId": "78963139-1541-4399-fd0f-758fa546ef4b"
      },
      "source": [
        "#just check that these match. otherwise just let me know\n",
        "\n",
        "print(len(t))\n",
        "print(len(z))\n",
        "print(len(n))\n",
        "print(len(d))\n",
        "print(len(s))"
      ],
      "execution_count": null,
      "outputs": [
        {
          "output_type": "stream",
          "text": [
            "12065\n",
            "12065\n",
            "12065\n",
            "12065\n",
            "12065\n"
          ],
          "name": "stdout"
        }
      ]
    },
    {
      "cell_type": "code",
      "metadata": {
        "id": "nKGqni3oYhOw"
      },
      "source": [
        "df=pd.DataFrame({'Title':t, 'Date':z, 'Name': n, 'Designation': d, 'Speech':s})"
      ],
      "execution_count": null,
      "outputs": []
    },
    {
      "cell_type": "code",
      "metadata": {
        "id": "y7ZfG-t3YhOx",
        "outputId": "97766cc4-db77-469f-ce94-114b586be0c1"
      },
      "source": [
        "df.head()"
      ],
      "execution_count": null,
      "outputs": [
        {
          "output_type": "execute_result",
          "data": {
            "text/html": [
              "<div>\n",
              "<style scoped>\n",
              "    .dataframe tbody tr th:only-of-type {\n",
              "        vertical-align: middle;\n",
              "    }\n",
              "\n",
              "    .dataframe tbody tr th {\n",
              "        vertical-align: top;\n",
              "    }\n",
              "\n",
              "    .dataframe thead th {\n",
              "        text-align: right;\n",
              "    }\n",
              "</style>\n",
              "<table border=\"1\" class=\"dataframe\">\n",
              "  <thead>\n",
              "    <tr style=\"text-align: right;\">\n",
              "      <th></th>\n",
              "      <th>Title</th>\n",
              "      <th>Date</th>\n",
              "      <th>Name</th>\n",
              "      <th>Designation</th>\n",
              "      <th>Speech</th>\n",
              "    </tr>\n",
              "  </thead>\n",
              "  <tbody>\n",
              "    <tr>\n",
              "      <th>0</th>\n",
              "      <td>DOW JONES CEO - Interview</td>\n",
              "      <td>18 December 1997</td>\n",
              "      <td>CHRISTINE BUSHEY</td>\n",
              "      <td>[MSNBC BUSINESS VIDEO]</td>\n",
              "      <td>If we could start off with some of the most r...</td>\n",
              "    </tr>\n",
              "    <tr>\n",
              "      <th>1</th>\n",
              "      <td>DOW JONES CEO - Interview</td>\n",
              "      <td>18 December 1997</td>\n",
              "      <td>PETER KANN</td>\n",
              "      <td>[CEO, DOW JONES]</td>\n",
              "      <td>Well, I think, why NBC because we really beli...</td>\n",
              "    </tr>\n",
              "    <tr>\n",
              "      <th>2</th>\n",
              "      <td>National Discount Brokers CEO - Interview</td>\n",
              "      <td>23 December 1997</td>\n",
              "      <td>PETER SCHACKNOW</td>\n",
              "      <td>[MSNBC BUSINESS VIDEO]</td>\n",
              "      <td>Tell me the company's name changed officially...</td>\n",
              "    </tr>\n",
              "    <tr>\n",
              "      <th>3</th>\n",
              "      <td>National Discount Brokers CEO - Interview</td>\n",
              "      <td>23 December 1997</td>\n",
              "      <td>WILLIAM KARSH</td>\n",
              "      <td>[CEO, NATIONAL DISCOUNT BROKERS]</td>\n",
              "      <td>Well, thank you. The overall strategy was to ...</td>\n",
              "    </tr>\n",
              "    <tr>\n",
              "      <th>4</th>\n",
              "      <td>USSB CEO - Interview</td>\n",
              "      <td>6 January 1998</td>\n",
              "      <td>PETER SCHACKNOW</td>\n",
              "      <td>[MSNBC BUSINESS VIDEO]</td>\n",
              "      <td>Let's get right to the announcements in today...</td>\n",
              "    </tr>\n",
              "  </tbody>\n",
              "</table>\n",
              "</div>"
            ],
            "text/plain": [
              "                                       Title              Date  \\\n",
              "0                  DOW JONES CEO - Interview  18 December 1997   \n",
              "1                  DOW JONES CEO - Interview  18 December 1997   \n",
              "2  National Discount Brokers CEO - Interview  23 December 1997   \n",
              "3  National Discount Brokers CEO - Interview  23 December 1997   \n",
              "4                       USSB CEO - Interview    6 January 1998   \n",
              "\n",
              "               Name                       Designation  \\\n",
              "0  CHRISTINE BUSHEY            [MSNBC BUSINESS VIDEO]   \n",
              "1        PETER KANN                  [CEO, DOW JONES]   \n",
              "2   PETER SCHACKNOW            [MSNBC BUSINESS VIDEO]   \n",
              "3     WILLIAM KARSH  [CEO, NATIONAL DISCOUNT BROKERS]   \n",
              "4   PETER SCHACKNOW            [MSNBC BUSINESS VIDEO]   \n",
              "\n",
              "                                              Speech  \n",
              "0   If we could start off with some of the most r...  \n",
              "1   Well, I think, why NBC because we really beli...  \n",
              "2   Tell me the company's name changed officially...  \n",
              "3   Well, thank you. The overall strategy was to ...  \n",
              "4   Let's get right to the announcements in today...  "
            ]
          },
          "metadata": {
            "tags": []
          },
          "execution_count": 91
        }
      ]
    },
    {
      "cell_type": "code",
      "metadata": {
        "id": "U0Dn1ZL6YhOx"
      },
      "source": [
        "#set path and change the name of the excel file(use .xlsx format only)\n",
        "df.to_excel (r'C:\\Users\\HP\\Documents\\GitHub\\intern ISB\\cnbc_nithin2.xlsx', index = False, header=True)"
      ],
      "execution_count": null,
      "outputs": []
    }
  ]
}